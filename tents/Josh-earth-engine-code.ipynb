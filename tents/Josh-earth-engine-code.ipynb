{
 "cells": [
  {
   "cell_type": "markdown",
   "metadata": {},
   "source": [
    "# Josh's Haiti 2010 SAM Project"
   ]
  },
  {
   "cell_type": "code",
   "execution_count": 1,
   "metadata": {},
   "outputs": [],
   "source": [
    "import numpy as np\n",
    "import pandas as pd\n",
    "import glob\n",
    "import xml.etree.ElementTree as ET"
   ]
  },
  {
   "cell_type": "code",
   "execution_count": 5,
   "metadata": {},
   "outputs": [],
   "source": [
    "def xml_to_csv(path):\n",
    "    xml_list = []\n",
    "    for xml_file in glob.glob(path + '/*.xml'):\n",
    "        tree = ET.parse(xml_file)\n",
    "        root = tree.getroot()\n",
    "        for member in root.findall('object'):\n",
    "            value = (root.find('filename').text,\n",
    "                    int(root.find('size')[0].text),\n",
    "                    int(root.find('size')[1].text),\n",
    "                    member[0].text,\n",
    "                    int(member[4][0].text),\n",
    "                    int(member[4][1].text),\n",
    "                    int(member[4][2].text),\n",
    "                    int(member[4][3].text)\n",
    "                    )\n",
    "            xml_list.append(value)\n",
    "    column_name = ['filename', 'width', 'height',\n",
    "                'class', 'xmin', 'ymin', 'xmax', 'ymax']\n",
    "    xml_df = pd.DataFrame(xml_list, columns=column_name)\n",
    "    return xml_df"
   ]
  },
  {
   "cell_type": "code",
   "execution_count": 25,
   "metadata": {},
   "outputs": [],
   "source": [
    "train_data = xml_to_csv('./train/annotations')"
   ]
  },
  {
   "cell_type": "code",
   "execution_count": 26,
   "metadata": {},
   "outputs": [
    {
     "data": {
      "text/html": [
       "<div>\n",
       "<style scoped>\n",
       "    .dataframe tbody tr th:only-of-type {\n",
       "        vertical-align: middle;\n",
       "    }\n",
       "\n",
       "    .dataframe tbody tr th {\n",
       "        vertical-align: top;\n",
       "    }\n",
       "\n",
       "    .dataframe thead th {\n",
       "        text-align: right;\n",
       "    }\n",
       "</style>\n",
       "<table border=\"1\" class=\"dataframe\">\n",
       "  <thead>\n",
       "    <tr style=\"text-align: right;\">\n",
       "      <th></th>\n",
       "      <th>filename</th>\n",
       "      <th>width</th>\n",
       "      <th>height</th>\n",
       "      <th>class</th>\n",
       "      <th>xmin</th>\n",
       "      <th>ymin</th>\n",
       "      <th>xmax</th>\n",
       "      <th>ymax</th>\n",
       "    </tr>\n",
       "  </thead>\n",
       "  <tbody>\n",
       "  </tbody>\n",
       "</table>\n",
       "</div>"
      ],
      "text/plain": [
       "Empty DataFrame\n",
       "Columns: [filename, width, height, class, xmin, ymin, xmax, ymax]\n",
       "Index: []"
      ]
     },
     "execution_count": 26,
     "metadata": {},
     "output_type": "execute_result"
    }
   ],
   "source": [
    "train_data"
   ]
  },
  {
   "cell_type": "code",
   "execution_count": 6,
   "metadata": {},
   "outputs": [],
   "source": [
    "import csv\n",
    "import xml.etree.cElementTree as ET\n",
    "\n",
    "def csv_to_xml(csv_path, resized_images_path, labels_path, folder):\n",
    "    f = open(csv_path, 'r')\n",
    "    reader = csv.reader(f)\n",
    "    header = next(reader)\n",
    "    old_filename = None\n",
    "    for row in reader:\n",
    "        filename = row[0]\n",
    "        if filename == old_filename:\n",
    "            object = ET.SubElement(annotation, 'object')\n",
    "            ET.SubElement(object, 'name').text = row[3]\n",
    "            ET.SubElement(object, 'pose').text = 'Unspecified'\n",
    "            ET.SubElement(object, 'truncated').text = '0'\n",
    "            ET.SubElement(object, 'difficult').text = '0'\n",
    "            bndbox = ET.SubElement(object, 'bndbox')\n",
    "            ET.SubElement(bndbox, 'xmin').text = row[4]\n",
    "            ET.SubElement(bndbox, 'ymin').text = row[5]\n",
    "            ET.SubElement(bndbox, 'xmax').text = row[6]\n",
    "            ET.SubElement(bndbox, 'ymax').text = row[7]\n",
    "        else:\n",
    "            if old_filename is not None:\n",
    "                labels_file = old_filename.replace('.jpg', '.xml')\n",
    "                tree = ET.ElementTree(annotation)\n",
    "                tree.write(labels_path + labels_file)\n",
    "\n",
    "            annotation = ET.Element('annotation')\n",
    "            ET.SubElement(annotation, 'folder').text = folder\n",
    "            ET.SubElement(annotation, 'filename').text = filename\n",
    "            ET.SubElement(annotation, 'path').text =     resized_images_path + filename\n",
    "            source = ET.SubElement(annotation, 'source')\n",
    "            ET.SubElement(source, 'database').text = 'Unknown'\n",
    "            size = ET.SubElement(annotation, 'size')\n",
    "            ET.SubElement(size, 'width').text = row[1]\n",
    "            ET.SubElement(size, 'height').text = row[2]\n",
    "            ET.SubElement(size, 'depth').text = '3'\n",
    "            ET.SubElement(annotation, 'segmented').text = '0'\n",
    "\n",
    "            object = ET.SubElement(annotation, 'object')\n",
    "            ET.SubElement(object, 'name').text = row[3]\n",
    "            ET.SubElement(object, 'pose').text = 'Unspecified'\n",
    "            ET.SubElement(object, 'truncated').text = '0'\n",
    "            ET.SubElement(object, 'difficult').text = '0'\n",
    "            bndbox = ET.SubElement(object, 'bndbox')\n",
    "            ET.SubElement(bndbox, 'xmin').text = row[4]\n",
    "            ET.SubElement(bndbox, 'ymin').text = row[5]\n",
    "            ET.SubElement(bndbox, 'xmax').text = row[6]\n",
    "            ET.SubElement(bndbox, 'ymax').text = row[7]\n",
    "        old_filename = filename\n",
    "    f.close()"
   ]
  },
  {
   "cell_type": "code",
   "execution_count": 7,
   "metadata": {},
   "outputs": [],
   "source": [
    "from imgaug.augmentables.bbs import BoundingBoxesOnImage\n",
    "from imgaug import augmenters as iaa\n",
    "\n",
    "aug = iaa.SomeOf(2, [\n",
    "    iaa.Affine(scale=(0.5, 1.5)),\n",
    "    iaa.Affine(rotate=(-60, 60)),\n",
    "    iaa.Affine(translate_percent={\"x\": (-0.3, 0.3), \"y\": (-0.3,   0.3)}),\n",
    "    iaa.Fliplr(1),\n",
    "    iaa.Multiply((0.5, 1.5)),\n",
    "    iaa.GaussianBlur(sigma=(1.0, 3.0)),\n",
    "    iaa.AdditiveGaussianNoise(scale=(0.03 * 255, 0.05 * 255)),\n",
    "    iaa.Add((-25, 25)),\n",
    "    iaa.MotionBlur(k=15),\n",
    "    iaa.MultiplySaturation((0.5, 1.5)),\n",
    "    iaa.LogContrast(gain=(0.6, 1.4)),\n",
    "    iaa.Flipud(1)\n",
    "])"
   ]
  },
  {
   "cell_type": "code",
   "execution_count": 27,
   "metadata": {},
   "outputs": [],
   "source": [
    "import imgaug as ia\n",
    "ia.seed(1)\n",
    "# imgaug uses matplotlib backend for displaying images\n",
    "%matplotlib inline\n",
    "from imgaug.augmentables.bbs import BoundingBox, BoundingBoxesOnImage\n",
    "from imgaug import augmenters as iaa \n",
    "# imageio library will be used for image input/output\n",
    "import imageio\n",
    "import pandas as pd\n",
    "import numpy as np\n",
    "import re\n",
    "import os\n",
    "import glob\n",
    "# this library is needed to read XML files for converting it into CSV\n",
    "import xml.etree.ElementTree as ET\n",
    "import shutil"
   ]
  },
  {
   "cell_type": "code",
   "execution_count": 9,
   "metadata": {},
   "outputs": [],
   "source": [
    "# function to convert BoundingBoxesOnImage object into DataFrame\n",
    "def bbs_obj_to_df(bbs_object):\n",
    "#     convert BoundingBoxesOnImage object into array\n",
    "    bbs_array = bbs_object.to_xyxy_array()\n",
    "#     convert array into a DataFrame ['xmin', 'ymin', 'xmax', 'ymax'] columns\n",
    "    df_bbs = pd.DataFrame(bbs_array, columns=['xmin', 'ymin', 'xmax', 'ymax'])\n",
    "    return df_bbs"
   ]
  },
  {
   "cell_type": "code",
   "execution_count": 16,
   "metadata": {},
   "outputs": [
    {
     "ename": "TypeError",
     "evalue": "'module' object is not callable",
     "output_type": "error",
     "traceback": [
      "\u001b[0;31m---------------------------------------------------------------------------\u001b[0m",
      "\u001b[0;31mTypeError\u001b[0m                                 Traceback (most recent call last)",
      "\u001b[0;32m<ipython-input-16-dfa74d1cebc6>\u001b[0m in \u001b[0;36m<module>\u001b[0;34m\u001b[0m\n\u001b[1;32m      2\u001b[0m     \u001b[0mxml_df\u001b[0m \u001b[0;34m=\u001b[0m \u001b[0mxml_to_csv\u001b[0m\u001b[0;34m(\u001b[0m\u001b[0;34m'labels_path/'\u001b[0m\u001b[0;34m)\u001b[0m\u001b[0;34m\u001b[0m\u001b[0;34m\u001b[0m\u001b[0m\n\u001b[1;32m      3\u001b[0m     \u001b[0;32mfor\u001b[0m \u001b[0mi\u001b[0m \u001b[0;32min\u001b[0m \u001b[0mrange\u001b[0m\u001b[0;34m(\u001b[0m\u001b[0;36m10\u001b[0m\u001b[0;34m)\u001b[0m\u001b[0;34m:\u001b[0m\u001b[0;34m\u001b[0m\u001b[0;34m\u001b[0m\u001b[0m\n\u001b[0;32m----> 4\u001b[0;31m         \u001b[0maugmented_images_df\u001b[0m \u001b[0;34m=\u001b[0m \u001b[0mia\u001b[0m\u001b[0;34m(\u001b[0m\u001b[0mxml_df\u001b[0m\u001b[0;34m,\u001b[0m \u001b[0;34m'resized_images/'\u001b[0m\u001b[0;34m,\u001b[0m \u001b[0;34m'resized_images/'\u001b[0m\u001b[0;34m,\u001b[0m \u001b[0;34m'aug{}_'\u001b[0m\u001b[0;34m.\u001b[0m\u001b[0mformat\u001b[0m\u001b[0;34m(\u001b[0m\u001b[0mi\u001b[0m\u001b[0;34m)\u001b[0m\u001b[0;34m,\u001b[0m \u001b[0maug\u001b[0m\u001b[0;34m)\u001b[0m\u001b[0;34m\u001b[0m\u001b[0;34m\u001b[0m\u001b[0m\n\u001b[0m\u001b[1;32m      5\u001b[0m         \u001b[0maugmented_images_df\u001b[0m\u001b[0;34m.\u001b[0m\u001b[0mto_csv\u001b[0m\u001b[0;34m(\u001b[0m\u001b[0;34m'aug{}_images.csv'\u001b[0m\u001b[0;34m.\u001b[0m\u001b[0mformat\u001b[0m\u001b[0;34m(\u001b[0m\u001b[0mi\u001b[0m\u001b[0;34m)\u001b[0m\u001b[0;34m,\u001b[0m \u001b[0mindex\u001b[0m\u001b[0;34m=\u001b[0m\u001b[0;32mFalse\u001b[0m\u001b[0;34m)\u001b[0m\u001b[0;34m\u001b[0m\u001b[0;34m\u001b[0m\u001b[0m\n\u001b[1;32m      6\u001b[0m         csv_to_xml(csv_path='aug{}_images.csv'.format(i),\n",
      "\u001b[0;31mTypeError\u001b[0m: 'module' object is not callable"
     ]
    }
   ],
   "source": [
    "\n",
    "if __name__ == '__main__':\n",
    "    xml_df = xml_to_csv('labels_path/')\n",
    "    for i in range(10):\n",
    "        augmented_images_df = ia(xml_df, 'resized_images/', 'resized_images/', 'aug{}_'.format(i), aug)\n",
    "        augmented_images_df.to_csv('aug{}_images.csv'.format(i), index=False)\n",
    "        csv_to_xml(csv_path='aug{}_images.csv'.format(i),\n",
    "                   resized_images_path='resized_images/', \n",
    "                   labels_path='labels_path/',\n",
    "                   folder='resized_images')\n",
    "        os.remove('aug{}_images.csv'.format(i))"
   ]
  },
  {
   "cell_type": "code",
   "execution_count": 28,
   "metadata": {},
   "outputs": [
    {
     "ename": "FileNotFoundError",
     "evalue": "[Errno 2] No such file or directory: 'resized_images/'",
     "output_type": "error",
     "traceback": [
      "\u001b[0;31m---------------------------------------------------------------------------\u001b[0m",
      "\u001b[0;31mFileNotFoundError\u001b[0m                         Traceback (most recent call last)",
      "\u001b[0;32m<ipython-input-28-a88d57ca6212>\u001b[0m in \u001b[0;36m<module>\u001b[0;34m\u001b[0m\n\u001b[1;32m      9\u001b[0m \u001b[0;34m\u001b[0m\u001b[0m\n\u001b[1;32m     10\u001b[0m \u001b[0;34m\u001b[0m\u001b[0m\n\u001b[0;32m---> 11\u001b[0;31m \u001b[0;32mfor\u001b[0m \u001b[0mimage_file\u001b[0m \u001b[0;32min\u001b[0m \u001b[0mos\u001b[0m\u001b[0;34m.\u001b[0m\u001b[0mlistdir\u001b[0m\u001b[0;34m(\u001b[0m\u001b[0mimages_path\u001b[0m\u001b[0;34m)\u001b[0m\u001b[0;34m:\u001b[0m\u001b[0;34m\u001b[0m\u001b[0;34m\u001b[0m\u001b[0m\n\u001b[0m\u001b[1;32m     12\u001b[0m     \u001b[0mlabels_file\u001b[0m \u001b[0;34m=\u001b[0m \u001b[0mimage_file\u001b[0m\u001b[0;34m.\u001b[0m\u001b[0mreplace\u001b[0m\u001b[0;34m(\u001b[0m\u001b[0;34m'.jpg'\u001b[0m\u001b[0;34m,\u001b[0m \u001b[0;34m'.xml'\u001b[0m\u001b[0;34m)\u001b[0m\u001b[0;34m\u001b[0m\u001b[0;34m\u001b[0m\u001b[0m\n\u001b[1;32m     13\u001b[0m     \u001b[0;32mif\u001b[0m \u001b[0mrandom\u001b[0m\u001b[0;34m.\u001b[0m\u001b[0muniform\u001b[0m\u001b[0;34m(\u001b[0m\u001b[0;36m0\u001b[0m\u001b[0;34m,\u001b[0m \u001b[0;36m1\u001b[0m\u001b[0;34m)\u001b[0m \u001b[0;34m>\u001b[0m \u001b[0;36m0.2\u001b[0m\u001b[0;34m:\u001b[0m\u001b[0;34m\u001b[0m\u001b[0;34m\u001b[0m\u001b[0m\n",
      "\u001b[0;31mFileNotFoundError\u001b[0m: [Errno 2] No such file or directory: 'resized_images/'"
     ]
    }
   ],
   "source": [
    "import os\n",
    "import shutil\n",
    "import random\n",
    "\n",
    "images_path = 'resized_images/'\n",
    "labels_path = 'labels/'\n",
    "train_path = 'tents/train/'\n",
    "validation_path = 'dataset/validation/'\n",
    "\n",
    "\n",
    "for image_file in os.listdir(images_path):\n",
    "    labels_file = image_file.replace('.jpg', '.xml')\n",
    "    if random.uniform(0, 1) > 0.2:\n",
    "        shutil.copy(images_path + image_file, train_path + 'images/'\n",
    "                    + image_file)\n",
    "        shutil.copy(labels_path + labels_file, train_path +\n",
    "                    'annotations/' + labels_file)\n",
    "    else:\n",
    "        shutil.copy(images_path + image_file, validation_path +\n",
    "                    'images/' + image_file)\n",
    "        shutil.copy(labels_path + labels_file, validation_path +\n",
    "                    'annotations/' + labels_file)"
   ]
  },
  {
   "cell_type": "code",
   "execution_count": null,
   "metadata": {},
   "outputs": [],
   "source": [
    "plt.figure(figsize = (10,6))\n",
    "plt.title('Count of photos in Train, Validation, and Test Sets',  fontsize=20)\n",
    "plt.barh(range(len(photos_dict)), list(photos_dict.values()), align='center')\n",
    "plt.yticks(range(len(photos_dict)), list(photos_dict.keys()), rotation= 0)\n",
    "plt.xlabel('Count', fontsize=18)\n",
    "plt.ylabel('Photos', fontsize=18)\n",
    "# # for python 2.x:\n",
    "# plt.bar(range(len(D)), D.values(), align='center')  # python 2.x\n",
    "# plt.xticks(range(len(D)), D.keys())  # in python 2.x\n",
    "\n",
    "plt.show()"
   ]
  }
 ],
 "metadata": {
  "kernelspec": {
   "display_name": "Python 3",
   "language": "python",
   "name": "python3"
  },
  "language_info": {
   "codemirror_mode": {
    "name": "ipython",
    "version": 3
   },
   "file_extension": ".py",
   "mimetype": "text/x-python",
   "name": "python",
   "nbconvert_exporter": "python",
   "pygments_lexer": "ipython3",
   "version": "3.7.4"
  }
 },
 "nbformat": 4,
 "nbformat_minor": 4
}
